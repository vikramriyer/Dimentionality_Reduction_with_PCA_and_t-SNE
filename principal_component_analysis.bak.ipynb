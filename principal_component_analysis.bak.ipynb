








<!DOCTYPE html>
<html lang="en">

<head>
  <meta charset="utf-8">
  <title>Jupyter Notebook Viewer</title>
  <meta name="viewport" content="width=device-width, initial-scale=1.0">
  <meta name="description" content="">
  <meta name="author" content="">
  
  <meta name="robots" content="noindex,nofollow">
  

  <!--NEW RELIC Start Perf Measurement-->
  
  <!--NREND-->

  <!-- Le styles -->
  <script src="/cdn-cgi/apps/head/MuIIl4I_IVFkxldaVu1mdWee9as.js"></script><link href="/static/build/styles.css?v=187600a0f647dfa49ca5629b21844856" rel="stylesheet">

  <!-- Le HTML5 shim, for IE6-8 support of HTML5 elements -->
  <!--[if lt IE 9]>
    <script src="http://html5shim.googlecode.com/svn/trunk/html5.js"></script>
  <![endif]-->

  <!-- Le fav and touch icons -->
  <link rel="shortcut icon" href="/static/ico/ipynb_icon_16x16.png">
  <link rel="apple-touch-icon-precomposed" sizes="144x144"
        href="/static/ico/apple-touch-icon-144-precomposed.png?v=5a3c9ede93e2a8b8ea9e3f8f3da1a905">
  <link rel="apple-touch-icon-precomposed" sizes="114x114"
        href="/static/ico/apple-touch-icon-114-precomposed.png?v=45d86fc8f24dc00638035e1dd7a6d898">
  <link rel="apple-touch-icon-precomposed" sizes="72x72"
        href="/static/ico/apple-touch-icon-72-precomposed.png?v=540b5eb0f3cfd25f1439d1c9bd30e15f">
  <link rel="apple-touch-icon-precomposed"
        href="/static/ico/apple-touch-icon-57-precomposed.png?v=225f0590e187e1458625654f10a28f56">
  
  

  

  
  <meta name="twitter:card" content="summary">
  <meta name="twitter:title" content="Notebook on nbviewer">
  <meta name="twitter:description" content="Check out this Jupyter notebook!">

  
  <meta name="twitter:domain" content="nbviewer.ipython.org">
  <meta name="twitter:image:src" content="http://ipython.org/ipython-doc/dev/_images/ipynb_icon_128x128.png">

  
    <link href="/static/build/notebook.css?v=0a1fd720873b368f697f2028629e42e3" rel="stylesheet">
  

  

  
    <script src="https://cdnjs.cloudflare.com/ajax/libs/mathjax/2.7.1/MathJax.js?config=TeX-AMS_HTML" type="text/javascript">
    </script>
    <script type="text/javascript">
      init_mathjax = function() {
        if (window.MathJax) {
          // MathJax loaded
          MathJax.Hub.Config({
            TeX: {
              equationNumbers: {
                autoNumber: "AMS",
                useLabelIds: true
              }
            },
            tex2jax: {
              inlineMath: [ ['$','$'], ["\\(","\\)"] ],
              displayMath: [ ['$$','$$'], ["\\[","\\]"] ],
              processEscapes: true,
              processEnvironments: true
            },
            displayAlign: 'center',
            "HTML-CSS": {
              styles: {'.MathJax_Display': {"margin": 0}},
              linebreaks: { automatic: true }
            }
          });
          MathJax.Hub.Queue(["Typeset", MathJax.Hub]);
        }
      }
      init_mathjax();
    </script>
  

</head>

<body class="nbviewer">

  <!-- These are loaded at the top of the body so they are available to
       notebook cells when they are loaded below. -->
  <script src="/static/components/jquery/dist/jquery.min.js?v=c9f5aeeca3ad37bf2aa006139b935f0a"></script>
  <script src="/static/components/requirejs/require.js?v=6da8be361b9ee26c5e721e76c6d4afce"></script>
  <script src="/static/components/moment/min/moment.min.js?v=89f87298ad94aa1e6b92f42eb66da043"></script>

<!-- Navbar
================================================== -->
  <nav id="menubar" class="navbar navbar-default navbar-fixed-top" data-spy="affix">
    <div class="container">
      <div class="navbar-header">
        <button type="button" class="navbar-toggle collapsed" data-toggle="collapse" data-target=".navbar-collapse">
          <span class="sr-only">Toggle navigation</span>
          <i class="fa fa-bars"></i>
        </button>
        <a class="navbar-brand" href="/">
          <img src="/static/img/nav_logo.svg?v=479cefe8d932fb14a67b93911b97d70f" width="159"/>
        </a>
      </div>

      <div class="collapse navbar-collapse">
        <ul class="nav navbar-nav navbar-right">
          <li>
            <a class="active" href="http://jupyter.org">JUPYTER</a>
          </li>
          <li>
    <a href="/faq" title="FAQ" >
      
        <span>FAQ</span>
      
    </a>
  </li>

          
  
    
  
    
      
        <li>
    <a href="/format/script/github/rasbt/pattern_classification/blob/master/dimensionality_reduction/projection/principal_component_analysis.ipynb" title="View as Code" >
      <span class="fa fa-code fa-2x menu-icon"></span>
      <span class="menu-text">View as Code</span>
    </a>
  </li>
      
    
  

  
    <li>
    <a href="#" title="Python 3 Kernel" >
      <span class="fa fa-server fa-2x menu-icon"></span>
      <span class="menu-text">Python 3 Kernel</span>
    </a>
  </li>
  

  
    <li>
    <a href="https://github.com/rasbt/pattern_classification/blob/master/dimensionality_reduction/projection/principal_component_analysis.ipynb" title="View on GitHub" >
      <span class="fa fa-github fa-2x menu-icon"></span>
      <span class="menu-text">View on GitHub</span>
    </a>
  </li>
  

  <li>
    <a href="https://raw.githubusercontent.com/rasbt/pattern_classification/master/dimensionality_reduction/projection/principal_component_analysis.ipynb" title="Download Notebook" download>
      <span class="fa fa-download fa-2x menu-icon"></span>
      <span class="menu-text">Download Notebook</span>
    </a>
  </li>

        </ul>
      </div><!-- /.navbar-collapse -->
      
      
    </div>
  </nav>

  <div class="container container-main">
    
  
  <ol class="breadcrumb">
    
      <li>
        <a href="/github/rasbt/pattern_classification/tree/master">pattern_classification</a>
      </li>
    
      <li>
        <a href="/github/rasbt/pattern_classification/tree/master/dimensionality_reduction">dimensionality_reduction</a>
      </li>
    
      <li>
        <a href="/github/rasbt/pattern_classification/tree/master/dimensionality_reduction/projection">projection</a>
      </li>
    
  </ol>
  
  <div id="notebook">
    <div id="notebook-container">
      
<div class="cell border-box-sizing code_cell rendered">
<div class="input">
<div class="prompt input_prompt">In&nbsp;[1]:</div>
<div class="inner_cell">
    <div class="input_area">
<div class=" highlight hl-ipython3"><pre><span></span><span class="o">%</span><span class="k">load_ext</span> watermark
</pre></div>

</div>
</div>
</div>

</div>
<div class="cell border-box-sizing code_cell rendered">
<div class="input">
<div class="prompt input_prompt">In&nbsp;[2]:</div>
<div class="inner_cell">
    <div class="input_area">
<div class=" highlight hl-ipython3"><pre><span></span><span class="o">%</span><span class="k">watermark</span> -v -d -a &#39;Sebastian Raschka&#39; -p scikit-learn,matplotlib,numpy,pandas
</pre></div>

</div>
</div>
</div>

<div class="output_wrapper">
<div class="output">


<div class="output_area">

<div class="prompt"></div>


<div class="output_subarea output_stream output_stdout output_text">
<pre>Sebastian Raschka 2016-07-11 

CPython 3.5.1
IPython 4.2.0

scikit-learn 0.17.1
matplotlib 1.5.1
numpy 1.11.0
pandas 0.18.1
</pre>
</div>
</div>

</div>
</div>

</div>
<div class="cell border-box-sizing code_cell rendered">
<div class="input">
<div class="prompt input_prompt">In&nbsp;[3]:</div>
<div class="inner_cell">
    <div class="input_area">
<div class=" highlight hl-ipython3"><pre><span></span><span class="o">%</span><span class="k">matplotlib</span> inline
</pre></div>

</div>
</div>
</div>

</div>
<div class="cell border-box-sizing text_cell rendered"><div class="prompt input_prompt">
</div>
<div class="inner_cell">
<div class="text_cell_render border-box-sizing rendered_html">
<p><br>
<br></p>

</div>
</div>
</div>
<div class="cell border-box-sizing text_cell rendered"><div class="prompt input_prompt">
</div>
<div class="inner_cell">
<div class="text_cell_render border-box-sizing rendered_html">
<h1 id="Principal-Component-Analysis-in-3-Simple-Steps">Principal Component Analysis in 3 Simple Steps<a class="anchor-link" href="#Principal-Component-Analysis-in-3-Simple-Steps">&#182;</a></h1>
</div>
</div>
</div>
<div class="cell border-box-sizing text_cell rendered"><div class="prompt input_prompt">
</div>
<div class="inner_cell">
<div class="text_cell_render border-box-sizing rendered_html">
<p>Principal Component Analysis (PCA) is a simple yet popular and useful linear transformation technique that is used in numerous applications, such as stock market predictions, the  analysis of gene expression data, and many more. In this tutorial, we will see that PCA is not just a "black box", and we are going to unravel its internals in 3 basic steps.</p>

</div>
</div>
</div>
<div class="cell border-box-sizing text_cell rendered"><div class="prompt input_prompt">
</div>
<div class="inner_cell">
<div class="text_cell_render border-box-sizing rendered_html">
<p>This article just got a complete overhaul, the original version is still available at <a href="http://nbviewer.ipython.org/github/rasbt/pattern_classification/blob/master/dimensionality_reduction/projection/principal_component_analysis.ipynb">principal_component_analysis_old.ipynb</a>.</p>

</div>
</div>
</div>
<div class="cell border-box-sizing text_cell rendered"><div class="prompt input_prompt">
</div>
<div class="inner_cell">
<div class="text_cell_render border-box-sizing rendered_html">
<p><br>
<br></p>

</div>
</div>
</div>
<div class="cell border-box-sizing text_cell rendered"><div class="prompt input_prompt">
</div>
<div class="inner_cell">
<div class="text_cell_render border-box-sizing rendered_html">
<hr>
</div>
</div>
</div>
<div class="cell border-box-sizing text_cell rendered"><div class="prompt input_prompt">
</div>
<div class="inner_cell">
<div class="text_cell_render border-box-sizing rendered_html">
<h2 id="Sections">Sections<a class="anchor-link" href="#Sections">&#182;</a></h2>
</div>
</div>
</div>
<div class="cell border-box-sizing text_cell rendered"><div class="prompt input_prompt">
</div>
<div class="inner_cell">
<div class="text_cell_render border-box-sizing rendered_html">
<ul>
<li><a href="#Introduction">Introduction</a><ul>
<li><a href="#PCA-Vs.-LDA">PCA Vs. LDA</a></li>
<li><a href="#PCA-and-Dimensionality-Reduction">PCA and Dimensionality Reduction</a></li>
<li><a href="#A-Summary-of-the-PCA-Approach">A Summary of the PCA Approach</a></li>
</ul>
</li>
<li><a href="#Preparing-the-Iris-Dataset">Preparing the Iris Dataset</a><ul>
<li><a href="#About-Iris">About Iris</a></li>
<li><a href="#Loading-the-Dataset">Loading the Dataset</a></li>
<li><a href="#Exploratory-Visualization">Exploratory Visualization</a></li>
<li><a href="#Standardizing">Standardizing</a></li>
</ul>
</li>
<li><a href="#1---Eigendecomposition---Computing-Eigenvectors-and-Eigenvalues">1 - Eigendecomposition - Computing Eigenvectors and Eigenvalues</a><ul>
<li><a href="#Covariance-Matrix">Covariance Matrix</a></li>
<li><a href="#Correlation-Matrix">Correlation Matrix</a></li>
<li><a href="#Singular-Vector-Decomposition">Singular Vector Decomposition</a></li>
</ul>
</li>
<li><a href="#2---Selecting-Principal-Components">2 - Selecting Principal Components</a><ul>
<li><a href="#Sorting-Eigenpairs">Sorting Eigenpairs</a></li>
<li><a href="#Explained-Variance">Explained Variance</a></li>
<li><a href="#Projection-Matrix">Projection Matrix</a></li>
</ul>
</li>
<li><a href="#3---Selecting-Principal-Components">3 - Projection Onto the New Feature Space</a></li>
<li><a href="#Shortcut---PCA-in-scikit-learn">Shortcut - PCA in scikit-learn</a></li>
</ul>

</div>
</div>
</div>
<div class="cell border-box-sizing text_cell rendered"><div class="prompt input_prompt">
</div>
<div class="inner_cell">
<div class="text_cell_render border-box-sizing rendered_html">
<p><br>
<br></p>

</div>
</div>
</div>
<div class="cell border-box-sizing text_cell rendered"><div class="prompt input_prompt">
</div>
<div class="inner_cell">
<div class="text_cell_render border-box-sizing rendered_html">
<hr>
</div>
</div>
</div>
<div class="cell border-box-sizing text_cell rendered"><div class="prompt input_prompt">
</div>
<div class="inner_cell">
<div class="text_cell_render border-box-sizing rendered_html">
<h2 id="Introduction">Introduction<a class="anchor-link" href="#Introduction">&#182;</a></h2>
</div>
</div>
</div>
<div class="cell border-box-sizing text_cell rendered"><div class="prompt input_prompt">
</div>
<div class="inner_cell">
<div class="text_cell_render border-box-sizing rendered_html">
<p>[<a href="#Sections">back to top</a>]</p>

</div>
</div>
</div>
<div class="cell border-box-sizing text_cell rendered"><div class="prompt input_prompt">
</div>
<div class="inner_cell">
<div class="text_cell_render border-box-sizing rendered_html">
<p>The sheer size of data in the modern age is not only a challenge for computer hardware but also a main bottleneck for the performance of many machine learning algorithms. The main goal of a PCA analysis is to identify patterns in data; PCA aims to detect the correlation between variables. If a strong correlation between variables exists, the attempt to reduce the dimensionality only makes sense. In a nutshell, this is what PCA is all about: Finding the directions of maximum variance in high-dimensional data and project it onto a smaller dimensional subspace while retaining most of the information.</p>

</div>
</div>
</div>
<div class="cell border-box-sizing text_cell rendered"><div class="prompt input_prompt">
</div>
<div class="inner_cell">
<div class="text_cell_render border-box-sizing rendered_html">
<p><br>
<br></p>

</div>
</div>
</div>
<div class="cell border-box-sizing text_cell rendered"><div class="prompt input_prompt">
</div>
<div class="inner_cell">
<div class="text_cell_render border-box-sizing rendered_html">
<h3 id="PCA-Vs.-LDA">PCA Vs. LDA<a class="anchor-link" href="#PCA-Vs.-LDA">&#182;</a></h3>
</div>
</div>
</div>
<div class="cell border-box-sizing text_cell rendered"><div class="prompt input_prompt">
</div>
<div class="inner_cell">
<div class="text_cell_render border-box-sizing rendered_html">
<p>[<a href="#Sections">back to top</a>]</p>

</div>
</div>
</div>
<div class="cell border-box-sizing text_cell rendered"><div class="prompt input_prompt">
</div>
<div class="inner_cell">
<div class="text_cell_render border-box-sizing rendered_html">
<p>Both Linear Discriminant Analysis (LDA) and PCA are linear transformation methods. PCA yields the directions (principal components) that maximize the variance of the data, whereas LDA also aims to find the directions that maximize the separation (or discrimination) between different classes, which can be useful in pattern classification problem (PCA "ignores" class labels).<br>
<strong><em>In other words, PCA projects the entire dataset onto a different feature (sub)space, and LDA tries to determine a suitable feature (sub)space in order to distinguish between patterns that belong to different classes.</em></strong></p>

</div>
</div>
</div>
<div class="cell border-box-sizing text_cell rendered"><div class="prompt input_prompt">
</div>
<div class="inner_cell">
<div class="text_cell_render border-box-sizing rendered_html">
<p><br>
<br></p>

</div>
</div>
</div>
<div class="cell border-box-sizing text_cell rendered"><div class="prompt input_prompt">
</div>
<div class="inner_cell">
<div class="text_cell_render border-box-sizing rendered_html">
<h3 id="PCA-and-Dimensionality-Reduction">PCA and Dimensionality Reduction<a class="anchor-link" href="#PCA-and-Dimensionality-Reduction">&#182;</a></h3>
</div>
</div>
</div>
<div class="cell border-box-sizing text_cell rendered"><div class="prompt input_prompt">
</div>
<div class="inner_cell">
<div class="text_cell_render border-box-sizing rendered_html">
<p>[<a href="#Sections">back to top</a>]</p>

</div>
</div>
</div>
<div class="cell border-box-sizing text_cell rendered"><div class="prompt input_prompt">
</div>
<div class="inner_cell">
<div class="text_cell_render border-box-sizing rendered_html">
<p>Often, the desired goal is to reduce the dimensions of a $d$-dimensional dataset by projecting it onto a $(k)$-dimensional subspace (where $k\;&lt;\;d$) in order to increase the computational efficiency while retaining most of the information. An important question is "what is the size of $k$ that represents the data 'well'?"</p>
<p>Later, we will compute eigenvectors (the principal components) of a dataset and collect them in a projection matrix. Each of those eigenvectors is associated with an eigenvalue which can be interpreted as the "length" or "magnitude" of the corresponding eigenvector. If some eigenvalues have a significantly larger magnitude than others that the reduction of the dataset via PCA onto a smaller dimensional subspace by dropping the "less informative" eigenpairs is reasonable.</p>

</div>
</div>
</div>
<div class="cell border-box-sizing text_cell rendered"><div class="prompt input_prompt">
</div>
<div class="inner_cell">
<div class="text_cell_render border-box-sizing rendered_html">
<p><br>
<br></p>

</div>
</div>
</div>
<div class="cell border-box-sizing text_cell rendered"><div class="prompt input_prompt">
</div>
<div class="inner_cell">
<div class="text_cell_render border-box-sizing rendered_html">
<h3 id="A-Summary-of-the-PCA-Approach">A Summary of the PCA Approach<a class="anchor-link" href="#A-Summary-of-the-PCA-Approach">&#182;</a></h3>
</div>
</div>
</div>
<div class="cell border-box-sizing text_cell rendered"><div class="prompt input_prompt">
</div>
<div class="inner_cell">
<div class="text_cell_render border-box-sizing rendered_html">
<p>[<a href="#Sections">back to top</a>]</p>

</div>
</div>
</div>
<div class="cell border-box-sizing text_cell rendered"><div class="prompt input_prompt">
</div>
<div class="inner_cell">
<div class="text_cell_render border-box-sizing rendered_html">
<ul>
<li>Standardize the data.</li>
<li>Obtain the Eigenvectors and Eigenvalues from the covariance matrix or correlation matrix, or perform Singular Vector Decomposition.</li>
<li>Sort eigenvalues in descending order and choose the $k$ eigenvectors that correspond to the $k$ largest eigenvalues where $k$ is the number of dimensions of the new feature subspace ($k \le d$)/.</li>
<li>Construct the projection matrix $\mathbf{W}$ from the selected $k$ eigenvectors.</li>
<li>Transform the original dataset $\mathbf{X}$ via $\mathbf{W}$ to obtain a $k$-dimensional feature subspace $\mathbf{Y}$.</li>
</ul>

</div>
</div>
</div>
<div class="cell border-box-sizing text_cell rendered"><div class="prompt input_prompt">
</div>
<div class="inner_cell">
<div class="text_cell_render border-box-sizing rendered_html">
<p><br>
<br></p>

</div>
</div>
</div>
<div class="cell border-box-sizing text_cell rendered"><div class="prompt input_prompt">
</div>
<div class="inner_cell">
<div class="text_cell_render border-box-sizing rendered_html">
<h2 id="Preparing-the-Iris-Dataset">Preparing the Iris Dataset<a class="anchor-link" href="#Preparing-the-Iris-Dataset">&#182;</a></h2>
</div>
</div>
</div>
<div class="cell border-box-sizing text_cell rendered"><div class="prompt input_prompt">
</div>
<div class="inner_cell">
<div class="text_cell_render border-box-sizing rendered_html">
<p>[<a href="#Sections">back to top</a>]</p>

</div>
</div>
</div>
<div class="cell border-box-sizing text_cell rendered"><div class="prompt input_prompt">
</div>
<div class="inner_cell">
<div class="text_cell_render border-box-sizing rendered_html">
<p><br>
<br></p>

</div>
</div>
</div>
<div class="cell border-box-sizing text_cell rendered"><div class="prompt input_prompt">
</div>
<div class="inner_cell">
<div class="text_cell_render border-box-sizing rendered_html">
<h3 id="About-Iris">About Iris<a class="anchor-link" href="#About-Iris">&#182;</a></h3>
</div>
</div>
</div>
<div class="cell border-box-sizing text_cell rendered"><div class="prompt input_prompt">
</div>
<div class="inner_cell">
<div class="text_cell_render border-box-sizing rendered_html">
<p>[<a href="#Sections">back to top</a>]</p>

</div>
</div>
</div>
<div class="cell border-box-sizing text_cell rendered"><div class="prompt input_prompt">
</div>
<div class="inner_cell">
<div class="text_cell_render border-box-sizing rendered_html">
<p>For the following tutorial, we will be working with the famous "Iris" dataset that has been deposited on the UCI machine learning repository<br>
(<a href="https://archive.ics.uci.edu/ml/datasets/Iris">https://archive.ics.uci.edu/ml/datasets/Iris</a>).</p>
<p>The iris dataset contains measurements for 150 iris flowers from three different species.</p>
<p>The three classes in the Iris dataset are:</p>
<ol>
<li>Iris-setosa (n=50)</li>
<li>Iris-versicolor (n=50)</li>
<li>Iris-virginica (n=50)</li>
</ol>
<p>And the four features of in Iris dataset are:</p>
<ol>
<li>sepal length in cm</li>
<li>sepal width in cm</li>
<li>petal length in cm</li>
<li>petal width in cm</li>
</ol>
<p><img src="http://sebastianraschka.com/Images_old/2014_python_lda/iris_petal_sepal.png" alt="Iris" style="width: 200px;"/></p>

</div>
</div>
</div>
<div class="cell border-box-sizing text_cell rendered"><div class="prompt input_prompt">
</div>
<div class="inner_cell">
<div class="text_cell_render border-box-sizing rendered_html">
<p><br>
<br></p>

</div>
</div>
</div>
<div class="cell border-box-sizing text_cell rendered"><div class="prompt input_prompt">
</div>
<div class="inner_cell">
<div class="text_cell_render border-box-sizing rendered_html">
<h3 id="Loading-the-Dataset">Loading the Dataset<a class="anchor-link" href="#Loading-the-Dataset">&#182;</a></h3>
</div>
</div>
</div>
<div class="cell border-box-sizing text_cell rendered"><div class="prompt input_prompt">
</div>
<div class="inner_cell">
<div class="text_cell_render border-box-sizing rendered_html">
<p>[<a href="#Sections">back to top</a>]</p>

</div>
</div>
</div>
<div class="cell border-box-sizing text_cell rendered"><div class="prompt input_prompt">
</div>
<div class="inner_cell">
<div class="text_cell_render border-box-sizing rendered_html">
<p>In order to load the Iris data directly from the UCI repository, we are going to use the superb <a href="http://pandas.pydata.org">pandas</a> library. If you haven't used pandas yet, I want encourage you to check out the <a href="http://pandas.pydata.org/pandas-docs/stable/tutorials.html">pandas tutorials</a>. If I had to name one Python library that makes working with data a wonderfully simple task, this would definitely be pandas!</p>

</div>
</div>
</div>
<div class="cell border-box-sizing code_cell rendered">
<div class="input">
<div class="prompt input_prompt">In&nbsp;[4]:</div>
<div class="inner_cell">
    <div class="input_area">
<div class=" highlight hl-ipython3"><pre><span></span><span class="kn">import</span> <span class="nn">pandas</span> <span class="k">as</span> <span class="nn">pd</span>

<span class="n">df</span> <span class="o">=</span> <span class="n">pd</span><span class="o">.</span><span class="n">read_csv</span><span class="p">(</span>
    <span class="n">filepath_or_buffer</span><span class="o">=</span><span class="s1">&#39;https://archive.ics.uci.edu/ml/machine-learning-databases/iris/iris.data&#39;</span><span class="p">,</span> 
    <span class="n">header</span><span class="o">=</span><span class="kc">None</span><span class="p">,</span> 
    <span class="n">sep</span><span class="o">=</span><span class="s1">&#39;,&#39;</span><span class="p">)</span>

<span class="n">df</span><span class="o">.</span><span class="n">columns</span><span class="o">=</span><span class="p">[</span><span class="s1">&#39;sepal_len&#39;</span><span class="p">,</span> <span class="s1">&#39;sepal_wid&#39;</span><span class="p">,</span> <span class="s1">&#39;petal_len&#39;</span><span class="p">,</span> <span class="s1">&#39;petal_wid&#39;</span><span class="p">,</span> <span class="s1">&#39;class&#39;</span><span class="p">]</span>
<span class="n">df</span><span class="o">.</span><span class="n">dropna</span><span class="p">(</span><span class="n">how</span><span class="o">=</span><span class="s2">&quot;all&quot;</span><span class="p">,</span> <span class="n">inplace</span><span class="o">=</span><span class="kc">True</span><span class="p">)</span> <span class="c1"># drops the empty line at file-end</span>

<span class="n">df</span><span class="o">.</span><span class="n">tail</span><span class="p">()</span>
</pre></div>

</div>
</div>
</div>

<div class="output_wrapper">
<div class="output">


<div class="output_area">

<div class="prompt output_prompt">Out[4]:</div>



<div class="output_html rendered_html output_subarea output_execute_result">
<div>
<table border="1" class="dataframe">
  <thead>
    <tr style="text-align: right;">
      <th></th>
      <th>sepal_len</th>
      <th>sepal_wid</th>
      <th>petal_len</th>
      <th>petal_wid</th>
      <th>class</th>
    </tr>
  </thead>
  <tbody>
    <tr>
      <th>145</th>
      <td>6.7</td>
      <td>3.0</td>
      <td>5.2</td>
      <td>2.3</td>
      <td>Iris-virginica</td>
    </tr>
    <tr>
      <th>146</th>
      <td>6.3</td>
      <td>2.5</td>
      <td>5.0</td>
      <td>1.9</td>
      <td>Iris-virginica</td>
    </tr>
    <tr>
      <th>147</th>
      <td>6.5</td>
      <td>3.0</td>
      <td>5.2</td>
      <td>2.0</td>
      <td>Iris-virginica</td>
    </tr>
    <tr>
      <th>148</th>
      <td>6.2</td>
      <td>3.4</td>
      <td>5.4</td>
      <td>2.3</td>
      <td>Iris-virginica</td>
    </tr>
    <tr>
      <th>149</th>
      <td>5.9</td>
      <td>3.0</td>
      <td>5.1</td>
      <td>1.8</td>
      <td>Iris-virginica</td>
    </tr>
  </tbody>
</table>
</div>
</div>

</div>

</div>
</div>

</div>
<div class="cell border-box-sizing code_cell rendered">
<div class="input">
<div class="prompt input_prompt">In&nbsp;[5]:</div>
<div class="inner_cell">
    <div class="input_area">
<div class=" highlight hl-ipython3"><pre><span></span><span class="c1"># split data table into data X and class labels y</span>

<span class="n">X</span> <span class="o">=</span> <span class="n">df</span><span class="o">.</span><span class="n">ix</span><span class="p">[:,</span><span class="mi">0</span><span class="p">:</span><span class="mi">4</span><span class="p">]</span><span class="o">.</span><span class="n">values</span>
<span class="n">y</span> <span class="o">=</span> <span class="n">df</span><span class="o">.</span><span class="n">ix</span><span class="p">[:,</span><span class="mi">4</span><span class="p">]</span><span class="o">.</span><span class="n">values</span>
</pre></div>

</div>
</div>
</div>

</div>
<div class="cell border-box-sizing text_cell rendered"><div class="prompt input_prompt">
</div>
<div class="inner_cell">
<div class="text_cell_render border-box-sizing rendered_html">
<p>Our iris dataset is now stored in form of a  $150 \times 4$ matrix where the columns are the different features, and every row represents a separate flower sample.
Each sample row $\mathbf{x}$ can be pictured as a 4-dimensional vector</p>
<p>$\mathbf{x^T} = \begin{pmatrix} x_1 \\ x_2 \\ x_3 \\ x_4 \end{pmatrix} 
= \begin{pmatrix} \text{sepal length} \\ \text{sepal width} \\\text{petal length} \\ \text{petal width} \end{pmatrix}$</p>

</div>
</div>
</div>
<div class="cell border-box-sizing text_cell rendered"><div class="prompt input_prompt">
</div>
<div class="inner_cell">
<div class="text_cell_render border-box-sizing rendered_html">
<p><br>
<br></p>

</div>
</div>
</div>
<div class="cell border-box-sizing text_cell rendered"><div class="prompt input_prompt">
</div>
<div class="inner_cell">
<div class="text_cell_render border-box-sizing rendered_html">
<h3 id="Exploratory-Visualization">Exploratory Visualization<a class="anchor-link" href="#Exploratory-Visualization">&#182;</a></h3>
</div>
</div>
</div>
<div class="cell border-box-sizing text_cell rendered"><div class="prompt input_prompt">
</div>
<div class="inner_cell">
<div class="text_cell_render border-box-sizing rendered_html">
<p>[<a href="#Sections">back to top</a>]</p>

</div>
</div>
</div>
<div class="cell border-box-sizing text_cell rendered"><div class="prompt input_prompt">
</div>
<div class="inner_cell">
<div class="text_cell_render border-box-sizing rendered_html">
<p>To get a feeling for how the 3 different flower classes are distributes along the 4 different features, let us visualize them via histograms.</p>

</div>
</div>
</div>
<div class="cell border-box-sizing code_cell rendered">
<div class="input">
<div class="prompt input_prompt">In&nbsp;[6]:</div>
<div class="inner_cell">
    <div class="input_area">
<div class=" highlight hl-ipython3"><pre><span></span><span class="kn">from</span> <span class="nn">matplotlib</span> <span class="k">import</span> <span class="n">pyplot</span> <span class="k">as</span> <span class="n">plt</span>
<span class="kn">import</span> <span class="nn">numpy</span> <span class="k">as</span> <span class="nn">np</span>
<span class="kn">import</span> <span class="nn">math</span>

<span class="n">label_dict</span> <span class="o">=</span> <span class="p">{</span><span class="mi">1</span><span class="p">:</span> <span class="s1">&#39;Iris-Setosa&#39;</span><span class="p">,</span>
              <span class="mi">2</span><span class="p">:</span> <span class="s1">&#39;Iris-Versicolor&#39;</span><span class="p">,</span>
              <span class="mi">3</span><span class="p">:</span> <span class="s1">&#39;Iris-Virgnica&#39;</span><span class="p">}</span>

<span class="n">feature_dict</span> <span class="o">=</span> <span class="p">{</span><span class="mi">0</span><span class="p">:</span> <span class="s1">&#39;sepal length [cm]&#39;</span><span class="p">,</span>
                <span class="mi">1</span><span class="p">:</span> <span class="s1">&#39;sepal width [cm]&#39;</span><span class="p">,</span>
                <span class="mi">2</span><span class="p">:</span> <span class="s1">&#39;petal length [cm]&#39;</span><span class="p">,</span>
                <span class="mi">3</span><span class="p">:</span> <span class="s1">&#39;petal width [cm]&#39;</span><span class="p">}</span>

<span class="k">with</span> <span class="n">plt</span><span class="o">.</span><span class="n">style</span><span class="o">.</span><span class="n">context</span><span class="p">(</span><span class="s1">&#39;seaborn-whitegrid&#39;</span><span class="p">):</span>
    <span class="n">plt</span><span class="o">.</span><span class="n">figure</span><span class="p">(</span><span class="n">figsize</span><span class="o">=</span><span class="p">(</span><span class="mi">8</span><span class="p">,</span> <span class="mi">6</span><span class="p">))</span>
    <span class="k">for</span> <span class="n">cnt</span> <span class="ow">in</span> <span class="nb">range</span><span class="p">(</span><span class="mi">4</span><span class="p">):</span>
        <span class="n">plt</span><span class="o">.</span><span class="n">subplot</span><span class="p">(</span><span class="mi">2</span><span class="p">,</span> <span class="mi">2</span><span class="p">,</span> <span class="n">cnt</span><span class="o">+</span><span class="mi">1</span><span class="p">)</span>
        <span class="k">for</span> <span class="n">lab</span> <span class="ow">in</span> <span class="p">(</span><span class="s1">&#39;Iris-setosa&#39;</span><span class="p">,</span> <span class="s1">&#39;Iris-versicolor&#39;</span><span class="p">,</span> <span class="s1">&#39;Iris-virginica&#39;</span><span class="p">):</span>
            <span class="n">plt</span><span class="o">.</span><span class="n">hist</span><span class="p">(</span><span class="n">X</span><span class="p">[</span><span class="n">y</span><span class="o">==</span><span class="n">lab</span><span class="p">,</span> <span class="n">cnt</span><span class="p">],</span>
                     <span class="n">label</span><span class="o">=</span><span class="n">lab</span><span class="p">,</span>
                     <span class="n">bins</span><span class="o">=</span><span class="mi">10</span><span class="p">,</span>
                     <span class="n">alpha</span><span class="o">=</span><span class="mf">0.3</span><span class="p">,)</span>
        <span class="n">plt</span><span class="o">.</span><span class="n">xlabel</span><span class="p">(</span><span class="n">feature_dict</span><span class="p">[</span><span class="n">cnt</span><span class="p">])</span>
    <span class="n">plt</span><span class="o">.</span><span class="n">legend</span><span class="p">(</span><span class="n">loc</span><span class="o">=</span><span class="s1">&#39;upper right&#39;</span><span class="p">,</span> <span class="n">fancybox</span><span class="o">=</span><span class="kc">True</span><span class="p">,</span> <span class="n">fontsize</span><span class="o">=</span><span class="mi">8</span><span class="p">)</span>

    <span class="n">plt</span><span class="o">.</span><span class="n">tight_layout</span><span class="p">()</span>
    <span class="n">plt</span><span class="o">.</span><span class="n">show</span><span class="p">()</span>
</pre></div>

</div>
</div>
</div>

<div class="output_wrapper">
<div class="output">


<div class="output_area">

<div class="prompt"></div>




<div class="output_png output_subarea ">
<img src="data:image/png;base64,iVBORw0KGgoAAAANSUhEUgAAAjgAAAGoCAYAAABL+58oAAAABHNCSVQICAgIfAhkiAAAAAlwSFlz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"
>
</div>

</div>

</div>
</div>

</div>
<div class="cell border-box-sizing text_cell rendered"><div class="prompt input_prompt">
</div>
<div class="inner_cell">
<div class="text_cell_render border-box-sizing rendered_html">
<p><br>
<br></p>

</div>
</div>
</div>
<div class="cell border-box-sizing text_cell rendered"><div class="prompt input_prompt">
</div>
<div class="inner_cell">
<div class="text_cell_render border-box-sizing rendered_html">
<h3 id="Standardizing">Standardizing<a class="anchor-link" href="#Standardizing">&#182;</a></h3>
</div>
</div>
</div>
<div class="cell border-box-sizing text_cell rendered"><div class="prompt input_prompt">
</div>
<div class="inner_cell">
<div class="text_cell_render border-box-sizing rendered_html">
<p>[<a href="#Sections">back to top</a>]</p>

</div>
</div>
</div>
<div class="cell border-box-sizing text_cell rendered"><div class="prompt input_prompt">
</div>
<div class="inner_cell">
<div class="text_cell_render border-box-sizing rendered_html">
<p>Whether to standardize the data prior to a PCA on the covariance matrix depends on the measurement scales of the original features. Since PCA yields a feature subspace that maximizes the variance along the axes, it makes sense to standardize the data, especially, if it was measured on different scales. Although, all features in the Iris dataset were measured in centimeters, let us continue with the transformation of the data onto unit scale (mean=0 and variance=1), which is a requirement for the optimal performance of many machine learning algorithms.</p>

</div>
</div>
</div>
<div class="cell border-box-sizing code_cell rendered">
<div class="input">
<div class="prompt input_prompt">In&nbsp;[7]:</div>
<div class="inner_cell">
    <div class="input_area">
<div class=" highlight hl-ipython3"><pre><span></span><span class="kn">from</span> <span class="nn">sklearn.preprocessing</span> <span class="k">import</span> <span class="n">StandardScaler</span>
<span class="n">X_std</span> <span class="o">=</span> <span class="n">StandardScaler</span><span class="p">()</span><span class="o">.</span><span class="n">fit_transform</span><span class="p">(</span><span class="n">X</span><span class="p">)</span>
</pre></div>

</div>
</div>
</div>

</div>
<div class="cell border-box-sizing text_cell rendered"><div class="prompt input_prompt">
</div>
<div class="inner_cell">
<div class="text_cell_render border-box-sizing rendered_html">
<p><br>
<br></p>

</div>
</div>
</div>
<div class="cell border-box-sizing text_cell rendered"><div class="prompt input_prompt">
</div>
<div class="inner_cell">
<div class="text_cell_render border-box-sizing rendered_html">
<h2 id="1---Eigendecomposition---Computing-Eigenvectors-and-Eigenvalues">1 - Eigendecomposition - Computing Eigenvectors and Eigenvalues<a class="anchor-link" href="#1---Eigendecomposition---Computing-Eigenvectors-and-Eigenvalues">&#182;</a></h2>
</div>
</div>
</div>
<div class="cell border-box-sizing text_cell rendered"><div class="prompt input_prompt">
</div>
<div class="inner_cell">
<div class="text_cell_render border-box-sizing rendered_html">
<p>[<a href="#Sections">back to top</a>]</p>

</div>
</div>
</div>
<div class="cell border-box-sizing text_cell rendered"><div class="prompt input_prompt">
</div>
<div class="inner_cell">
<div class="text_cell_render border-box-sizing rendered_html">
<p>The eigenvectors and eigenvalues of a covariance (or correlation) matrix represent the "core" of a PCA: The eigenvectors (principal components) determine the directions of the new feature space, and the eigenvalues determine their magnitude. In other words, the eigenvalues explain the variance of the data along the new feature axes.</p>

</div>
</div>
</div>
<div class="cell border-box-sizing text_cell rendered"><div class="prompt input_prompt">
</div>
<div class="inner_cell">
<div class="text_cell_render border-box-sizing rendered_html">
<p><br>
<br></p>

</div>
</div>
</div>
<div class="cell border-box-sizing text_cell rendered"><div class="prompt input_prompt">
</div>
<div class="inner_cell">
<div class="text_cell_render border-box-sizing rendered_html">
<h3 id="Covariance-Matrix">Covariance Matrix<a class="anchor-link" href="#Covariance-Matrix">&#182;</a></h3>
</div>
</div>
</div>
<div class="cell border-box-sizing text_cell rendered"><div class="prompt input_prompt">
</div>
<div class="inner_cell">
<div class="text_cell_render border-box-sizing rendered_html">
<p>[<a href="#Sections">back to top</a>]</p>

</div>
</div>
</div>
<div class="cell border-box-sizing text_cell rendered"><div class="prompt input_prompt">
</div>
<div class="inner_cell">
<div class="text_cell_render border-box-sizing rendered_html">
<p>The classic approach to PCA is to perform the eigendecomposition on the covariance matrix $\Sigma$, which is a $d \times d$ matrix where each element represents the covariance between two features. The covariance between two features is calculated as follows:</p>
<p>$\sigma_{jk} = \frac{1}{n-1}\sum_{i=1}^{N}\left(  x_{ij}-\bar{x}_j \right)  \left( x_{ik}-\bar{x}_k \right).$</p>
<p>We can summarize the calculation of the covariance matrix via the following matrix equation:<br>
$\Sigma = \frac{1}{n-1} \left( (\mathbf{X} - \mathbf{\bar{x}})^T\;(\mathbf{X} - \mathbf{\bar{x}}) \right)$<br>
where $\mathbf{\bar{x}}$ is the mean vector 
$\mathbf{\bar{x}} = \sum\limits_{i=1}^n x_{i}.$<br>
The mean vector is a $d$-dimensional vector where each value in this vector represents the sample mean of a feature column in the dataset.</p>

</div>
</div>
</div>
<div class="cell border-box-sizing code_cell rendered">
<div class="input">
<div class="prompt input_prompt">In&nbsp;[8]:</div>
<div class="inner_cell">
    <div class="input_area">
<div class=" highlight hl-ipython3"><pre><span></span><span class="kn">import</span> <span class="nn">numpy</span> <span class="k">as</span> <span class="nn">np</span>
<span class="n">mean_vec</span> <span class="o">=</span> <span class="n">np</span><span class="o">.</span><span class="n">mean</span><span class="p">(</span><span class="n">X_std</span><span class="p">,</span> <span class="n">axis</span><span class="o">=</span><span class="mi">0</span><span class="p">)</span>
<span class="n">cov_mat</span> <span class="o">=</span> <span class="p">(</span><span class="n">X_std</span> <span class="o">-</span> <span class="n">mean_vec</span><span class="p">)</span><span class="o">.</span><span class="n">T</span><span class="o">.</span><span class="n">dot</span><span class="p">((</span><span class="n">X_std</span> <span class="o">-</span> <span class="n">mean_vec</span><span class="p">))</span> <span class="o">/</span> <span class="p">(</span><span class="n">X_std</span><span class="o">.</span><span class="n">shape</span><span class="p">[</span><span class="mi">0</span><span class="p">]</span><span class="o">-</span><span class="mi">1</span><span class="p">)</span>
<span class="nb">print</span><span class="p">(</span><span class="s1">&#39;Covariance matrix </span><span class="se">\n</span><span class="si">%s</span><span class="s1">&#39;</span> <span class="o">%</span><span class="k">cov_mat</span>)
</pre></div>

</div>
</div>
</div>

<div class="output_wrapper">
<div class="output">


<div class="output_area">

<div class="prompt"></div>


<div class="output_subarea output_stream output_stdout output_text">
<pre>Covariance matrix 
[[ 1.00671141 -0.11010327  0.87760486  0.82344326]
 [-0.11010327  1.00671141 -0.42333835 -0.358937  ]
 [ 0.87760486 -0.42333835  1.00671141  0.96921855]
 [ 0.82344326 -0.358937    0.96921855  1.00671141]]
</pre>
</div>
</div>

</div>
</div>

</div>
<div class="cell border-box-sizing code_cell rendered">
<div class="input">
<div class="prompt input_prompt">In&nbsp;[9]:</div>
<div class="inner_cell">
    <div class="input_area">
<div class=" highlight hl-ipython3"><pre><span></span><span class="kn">import</span> <span class="nn">numpy</span> <span class="k">as</span> <span class="nn">np</span>
<span class="n">mean_vec</span> <span class="o">=</span> <span class="n">np</span><span class="o">.</span><span class="n">mean</span><span class="p">(</span><span class="n">X_std</span><span class="p">,</span> <span class="n">axis</span><span class="o">=</span><span class="mi">0</span><span class="p">)</span>
<span class="n">cov_mat</span> <span class="o">=</span> <span class="p">(</span><span class="n">X_std</span> <span class="o">-</span> <span class="n">mean_vec</span><span class="p">)</span><span class="o">.</span><span class="n">T</span><span class="o">.</span><span class="n">dot</span><span class="p">((</span><span class="n">X_std</span> <span class="o">-</span> <span class="n">mean_vec</span><span class="p">))</span> <span class="o">/</span> <span class="p">(</span><span class="n">X_std</span><span class="o">.</span><span class="n">shape</span><span class="p">[</span><span class="mi">0</span><span class="p">]</span><span class="o">-</span><span class="mi">1</span><span class="p">)</span>
<span class="nb">print</span><span class="p">(</span><span class="s1">&#39;Covariance matrix </span><span class="se">\n</span><span class="si">%s</span><span class="s1">&#39;</span> <span class="o">%</span><span class="k">cov_mat</span>)
</pre></div>

</div>
</div>
</div>

<div class="output_wrapper">
<div class="output">


<div class="output_area">

<div class="prompt"></div>


<div class="output_subarea output_stream output_stdout output_text">
<pre>Covariance matrix 
[[ 1.00671141 -0.11010327  0.87760486  0.82344326]
 [-0.11010327  1.00671141 -0.42333835 -0.358937  ]
 [ 0.87760486 -0.42333835  1.00671141  0.96921855]
 [ 0.82344326 -0.358937    0.96921855  1.00671141]]
</pre>
</div>
</div>

</div>
</div>

</div>
<div class="cell border-box-sizing text_cell rendered"><div class="prompt input_prompt">
</div>
<div class="inner_cell">
<div class="text_cell_render border-box-sizing rendered_html">
<p>The more verbose way above was simply used for demonstration purposes, equivalently, we could have used the numpy <code>cov</code> function:</p>

</div>
</div>
</div>
<div class="cell border-box-sizing code_cell rendered">
<div class="input">
<div class="prompt input_prompt">In&nbsp;[10]:</div>
<div class="inner_cell">
    <div class="input_area">
<div class=" highlight hl-ipython3"><pre><span></span><span class="nb">print</span><span class="p">(</span><span class="s1">&#39;NumPy covariance matrix: </span><span class="se">\n</span><span class="si">%s</span><span class="s1">&#39;</span> <span class="o">%</span><span class="k">np</span>.cov(X_std.T))
</pre></div>

</div>
</div>
</div>

<div class="output_wrapper">
<div class="output">


<div class="output_area">

<div class="prompt"></div>


<div class="output_subarea output_stream output_stdout output_text">
<pre>NumPy covariance matrix: 
[[ 1.00671141 -0.11010327  0.87760486  0.82344326]
 [-0.11010327  1.00671141 -0.42333835 -0.358937  ]
 [ 0.87760486 -0.42333835  1.00671141  0.96921855]
 [ 0.82344326 -0.358937    0.96921855  1.00671141]]
</pre>
</div>
</div>

</div>
</div>

</div>
<div class="cell border-box-sizing text_cell rendered"><div class="prompt input_prompt">
</div>
<div class="inner_cell">
<div class="text_cell_render border-box-sizing rendered_html">
<p><br>
<br></p>

</div>
</div>
</div>
<div class="cell border-box-sizing text_cell rendered"><div class="prompt input_prompt">
</div>
<div class="inner_cell">
<div class="text_cell_render border-box-sizing rendered_html">
<p>Next, we perform an eigendecomposition on the covariance matrix:</p>

</div>
</div>
</div>
<div class="cell border-box-sizing code_cell rendered">
<div class="input">
<div class="prompt input_prompt">In&nbsp;[11]:</div>
<div class="inner_cell">
    <div class="input_area">
<div class=" highlight hl-ipython3"><pre><span></span><span class="n">cov_mat</span> <span class="o">=</span> <span class="n">np</span><span class="o">.</span><span class="n">cov</span><span class="p">(</span><span class="n">X_std</span><span class="o">.</span><span class="n">T</span><span class="p">)</span>

<span class="n">eig_vals</span><span class="p">,</span> <span class="n">eig_vecs</span> <span class="o">=</span> <span class="n">np</span><span class="o">.</span><span class="n">linalg</span><span class="o">.</span><span class="n">eig</span><span class="p">(</span><span class="n">cov_mat</span><span class="p">)</span>

<span class="nb">print</span><span class="p">(</span><span class="s1">&#39;Eigenvectors </span><span class="se">\n</span><span class="si">%s</span><span class="s1">&#39;</span> <span class="o">%</span><span class="k">eig_vecs</span>)
<span class="nb">print</span><span class="p">(</span><span class="s1">&#39;</span><span class="se">\n</span><span class="s1">Eigenvalues </span><span class="se">\n</span><span class="si">%s</span><span class="s1">&#39;</span> <span class="o">%</span><span class="k">eig_vals</span>)
</pre></div>

</div>
</div>
</div>

<div class="output_wrapper">
<div class="output">


<div class="output_area">

<div class="prompt"></div>


<div class="output_subarea output_stream output_stdout output_text">
<pre>Eigenvectors 
[[ 0.52237162 -0.37231836 -0.72101681  0.26199559]
 [-0.26335492 -0.92555649  0.24203288 -0.12413481]
 [ 0.58125401 -0.02109478  0.14089226 -0.80115427]
 [ 0.56561105 -0.06541577  0.6338014   0.52354627]]

Eigenvalues 
[ 2.93035378  0.92740362  0.14834223  0.02074601]
</pre>
</div>
</div>

</div>
</div>

</div>
<div class="cell border-box-sizing text_cell rendered"><div class="prompt input_prompt">
</div>
<div class="inner_cell">
<div class="text_cell_render border-box-sizing rendered_html">
<p><br>
<br></p>

</div>
</div>
</div>
<div class="cell border-box-sizing text_cell rendered"><div class="prompt input_prompt">
</div>
<div class="inner_cell">
<div class="text_cell_render border-box-sizing rendered_html">
<h3 id="Correlation-Matrix">Correlation Matrix<a class="anchor-link" href="#Correlation-Matrix">&#182;</a></h3>
</div>
</div>
</div>
<div class="cell border-box-sizing text_cell rendered"><div class="prompt input_prompt">
</div>
<div class="inner_cell">
<div class="text_cell_render border-box-sizing rendered_html">
<p>[<a href="#Sections">back to top</a>]</p>

</div>
</div>
</div>
<div class="cell border-box-sizing text_cell rendered"><div class="prompt input_prompt">
</div>
<div class="inner_cell">
<div class="text_cell_render border-box-sizing rendered_html">
<p>Especially, in the field of "Finance," the correlation matrix typically used instead of the covariance matrix. However, the eigendecomposition of the covariance matrix (if the input data was standardized) yields the same results as a eigendecomposition on the correlation matrix, since the correlation matrix can be understood as the normalized covariance matrix.</p>

</div>
</div>
</div>
<div class="cell border-box-sizing text_cell rendered"><div class="prompt input_prompt">
</div>
<div class="inner_cell">
<div class="text_cell_render border-box-sizing rendered_html">
<p><br>
<br></p>

</div>
</div>
</div>
<div class="cell border-box-sizing text_cell rendered"><div class="prompt input_prompt">
</div>
<div class="inner_cell">
<div class="text_cell_render border-box-sizing rendered_html">
<p>Eigendecomposition of the standardized data based on the correlation matrix:</p>

</div>
</div>
</div>
<div class="cell border-box-sizing code_cell rendered">
<div class="input">
<div class="prompt input_prompt">In&nbsp;[12]:</div>
<div class="inner_cell">
    <div class="input_area">
<div class=" highlight hl-ipython3"><pre><span></span><span class="n">cor_mat1</span> <span class="o">=</span> <span class="n">np</span><span class="o">.</span><span class="n">corrcoef</span><span class="p">(</span><span class="n">X_std</span><span class="o">.</span><span class="n">T</span><span class="p">)</span>

<span class="n">eig_vals</span><span class="p">,</span> <span class="n">eig_vecs</span> <span class="o">=</span> <span class="n">np</span><span class="o">.</span><span class="n">linalg</span><span class="o">.</span><span class="n">eig</span><span class="p">(</span><span class="n">cor_mat1</span><span class="p">)</span>

<span class="nb">print</span><span class="p">(</span><span class="s1">&#39;Eigenvectors </span><span class="se">\n</span><span class="si">%s</span><span class="s1">&#39;</span> <span class="o">%</span><span class="k">eig_vecs</span>)
<span class="nb">print</span><span class="p">(</span><span class="s1">&#39;</span><span class="se">\n</span><span class="s1">Eigenvalues </span><span class="se">\n</span><span class="si">%s</span><span class="s1">&#39;</span> <span class="o">%</span><span class="k">eig_vals</span>)
</pre></div>

</div>
</div>
</div>

<div class="output_wrapper">
<div class="output">


<div class="output_area">

<div class="prompt"></div>


<div class="output_subarea output_stream output_stdout output_text">
<pre>Eigenvectors 
[[ 0.52237162 -0.37231836 -0.72101681  0.26199559]
 [-0.26335492 -0.92555649  0.24203288 -0.12413481]
 [ 0.58125401 -0.02109478  0.14089226 -0.80115427]
 [ 0.56561105 -0.06541577  0.6338014   0.52354627]]

Eigenvalues 
[ 2.91081808  0.92122093  0.14735328  0.02060771]
</pre>
</div>
</div>

</div>
</div>

</div>
<div class="cell border-box-sizing text_cell rendered"><div class="prompt input_prompt">
</div>
<div class="inner_cell">
<div class="text_cell_render border-box-sizing rendered_html">
<p><br>
<br></p>

</div>
</div>
</div>
<div class="cell border-box-sizing text_cell rendered"><div class="prompt input_prompt">
</div>
<div class="inner_cell">
<div class="text_cell_render border-box-sizing rendered_html">
<p>Eigendecomposition of the raw data based on the correlation matrix:</p>

</div>
</div>
</div>
<div class="cell border-box-sizing code_cell rendered">
<div class="input">
<div class="prompt input_prompt">In&nbsp;[13]:</div>
<div class="inner_cell">
    <div class="input_area">
<div class=" highlight hl-ipython3"><pre><span></span><span class="n">cor_mat2</span> <span class="o">=</span> <span class="n">np</span><span class="o">.</span><span class="n">corrcoef</span><span class="p">(</span><span class="n">X</span><span class="o">.</span><span class="n">T</span><span class="p">)</span>

<span class="n">eig_vals</span><span class="p">,</span> <span class="n">eig_vecs</span> <span class="o">=</span> <span class="n">np</span><span class="o">.</span><span class="n">linalg</span><span class="o">.</span><span class="n">eig</span><span class="p">(</span><span class="n">cor_mat2</span><span class="p">)</span>

<span class="nb">print</span><span class="p">(</span><span class="s1">&#39;Eigenvectors </span><span class="se">\n</span><span class="si">%s</span><span class="s1">&#39;</span> <span class="o">%</span><span class="k">eig_vecs</span>)
<span class="nb">print</span><span class="p">(</span><span class="s1">&#39;</span><span class="se">\n</span><span class="s1">Eigenvalues </span><span class="se">\n</span><span class="si">%s</span><span class="s1">&#39;</span> <span class="o">%</span><span class="k">eig_vals</span>)
</pre></div>

</div>
</div>
</div>

<div class="output_wrapper">
<div class="output">


<div class="output_area">

<div class="prompt"></div>


<div class="output_subarea output_stream output_stdout output_text">
<pre>Eigenvectors 
[[ 0.52237162 -0.37231836 -0.72101681  0.26199559]
 [-0.26335492 -0.92555649  0.24203288 -0.12413481]
 [ 0.58125401 -0.02109478  0.14089226 -0.80115427]
 [ 0.56561105 -0.06541577  0.6338014   0.52354627]]

Eigenvalues 
[ 2.91081808  0.92122093  0.14735328  0.02060771]
</pre>
</div>
</div>

</div>
</div>

</div>
<div class="cell border-box-sizing text_cell rendered"><div class="prompt input_prompt">
</div>
<div class="inner_cell">
<div class="text_cell_render border-box-sizing rendered_html">
<p><br>
<br></p>

</div>
</div>
</div>
<div class="cell border-box-sizing text_cell rendered"><div class="prompt input_prompt">
</div>
<div class="inner_cell">
<div class="text_cell_render border-box-sizing rendered_html">
<p>We can clearly see that all three approaches yield the same eigenvectors and eigenvalue pairs:</p>
<ul>
<li>Eigendecomposition of the covariance matrix after standardizing the data.</li>
<li>Eigendecomposition of the correlation matrix.</li>
<li>Eigendecomposition of the correlation matrix after standardizing the data.</li>
</ul>

</div>
</div>
</div>
<div class="cell border-box-sizing text_cell rendered"><div class="prompt input_prompt">
</div>
<div class="inner_cell">
<div class="text_cell_render border-box-sizing rendered_html">
<p><br>
<br></p>

</div>
</div>
</div>
<div class="cell border-box-sizing text_cell rendered"><div class="prompt input_prompt">
</div>
<div class="inner_cell">
<div class="text_cell_render border-box-sizing rendered_html">
<h3 id="Singular-Vector-Decomposition">Singular Vector Decomposition<a class="anchor-link" href="#Singular-Vector-Decomposition">&#182;</a></h3>
</div>
</div>
</div>
<div class="cell border-box-sizing text_cell rendered"><div class="prompt input_prompt">
</div>
<div class="inner_cell">
<div class="text_cell_render border-box-sizing rendered_html">
<p>[<a href="#Sections">back to top</a>]</p>

</div>
</div>
</div>
<div class="cell border-box-sizing text_cell rendered"><div class="prompt input_prompt">
</div>
<div class="inner_cell">
<div class="text_cell_render border-box-sizing rendered_html">
<p>While the eigendecomposition of the covariance or correlation matrix may be more intuitiuve, most PCA implementations perform a Singular Vector Decomposition (SVD) to improve the computational efficiency. So, let us perform an SVD to  confirm that the result are indeed the same:</p>

</div>
</div>
</div>
<div class="cell border-box-sizing code_cell rendered">
<div class="input">
<div class="prompt input_prompt">In&nbsp;[14]:</div>
<div class="inner_cell">
    <div class="input_area">
<div class=" highlight hl-ipython3"><pre><span></span><span class="n">u</span><span class="p">,</span><span class="n">s</span><span class="p">,</span><span class="n">v</span> <span class="o">=</span> <span class="n">np</span><span class="o">.</span><span class="n">linalg</span><span class="o">.</span><span class="n">svd</span><span class="p">(</span><span class="n">X_std</span><span class="o">.</span><span class="n">T</span><span class="p">)</span>
<span class="nb">print</span><span class="p">(</span><span class="s1">&#39;Vectors U:</span><span class="se">\n</span><span class="s1">&#39;</span><span class="p">,</span> <span class="n">u</span><span class="p">)</span>
</pre></div>

</div>
</div>
</div>

<div class="output_wrapper">
<div class="output">


<div class="output_area">

<div class="prompt"></div>


<div class="output_subarea output_stream output_stdout output_text">
<pre>Vectors U:
 [[-0.52237162 -0.37231836  0.72101681  0.26199559]
 [ 0.26335492 -0.92555649 -0.24203288 -0.12413481]
 [-0.58125401 -0.02109478 -0.14089226 -0.80115427]
 [-0.56561105 -0.06541577 -0.6338014   0.52354627]]
</pre>
</div>
</div>

</div>
</div>

</div>
<div class="cell border-box-sizing code_cell rendered">
<div class="input">
<div class="prompt input_prompt">In&nbsp;[&nbsp;]:</div>
<div class="inner_cell">
    <div class="input_area">
<div class=" highlight hl-ipython3"><pre><span></span> 
</pre></div>

</div>
</div>
</div>

</div>
<div class="cell border-box-sizing text_cell rendered"><div class="prompt input_prompt">
</div>
<div class="inner_cell">
<div class="text_cell_render border-box-sizing rendered_html">
<p><br>
<br></p>

</div>
</div>
</div>
<div class="cell border-box-sizing text_cell rendered"><div class="prompt input_prompt">
</div>
<div class="inner_cell">
<div class="text_cell_render border-box-sizing rendered_html">
<h2 id="2---Selecting-Principal-Components">2 - Selecting Principal Components<a class="anchor-link" href="#2---Selecting-Principal-Components">&#182;</a></h2>
</div>
</div>
</div>
<div class="cell border-box-sizing text_cell rendered"><div class="prompt input_prompt">
</div>
<div class="inner_cell">
<div class="text_cell_render border-box-sizing rendered_html">
<p>[<a href="#Sections">back to top</a>]</p>

</div>
</div>
</div>
<div class="cell border-box-sizing text_cell rendered"><div class="prompt input_prompt">
</div>
<div class="inner_cell">
<div class="text_cell_render border-box-sizing rendered_html">
<p><br>
<br></p>

</div>
</div>
</div>
<div class="cell border-box-sizing text_cell rendered"><div class="prompt input_prompt">
</div>
<div class="inner_cell">
<div class="text_cell_render border-box-sizing rendered_html">
<h3 id="Sorting-Eigenpairs">Sorting Eigenpairs<a class="anchor-link" href="#Sorting-Eigenpairs">&#182;</a></h3>
</div>
</div>
</div>
<div class="cell border-box-sizing text_cell rendered"><div class="prompt input_prompt">
</div>
<div class="inner_cell">
<div class="text_cell_render border-box-sizing rendered_html">
<p>[<a href="#Sections">back to top</a>]</p>

</div>
</div>
</div>
<div class="cell border-box-sizing text_cell rendered"><div class="prompt input_prompt">
</div>
<div class="inner_cell">
<div class="text_cell_render border-box-sizing rendered_html">
<p>The typical goal of a PCA is to reduce the dimensionality of the original feature space by projecting it onto a smaller subspace, where the eigenvectors will form the axes. However, the eigenvectors only define the directions of the new axis, since they have all the same unit length 1, which can confirmed by the following two lines of code:</p>

</div>
</div>
</div>
<div class="cell border-box-sizing code_cell rendered">
<div class="input">
<div class="prompt input_prompt">In&nbsp;[15]:</div>
<div class="inner_cell">
    <div class="input_area">
<div class=" highlight hl-ipython3"><pre><span></span><span class="k">for</span> <span class="n">ev</span> <span class="ow">in</span> <span class="n">eig_vecs</span><span class="p">:</span>
    <span class="n">np</span><span class="o">.</span><span class="n">testing</span><span class="o">.</span><span class="n">assert_array_almost_equal</span><span class="p">(</span><span class="mf">1.0</span><span class="p">,</span> <span class="n">np</span><span class="o">.</span><span class="n">linalg</span><span class="o">.</span><span class="n">norm</span><span class="p">(</span><span class="n">ev</span><span class="p">))</span>
<span class="nb">print</span><span class="p">(</span><span class="s1">&#39;Everything ok!&#39;</span><span class="p">)</span>
</pre></div>

</div>
</div>
</div>

<div class="output_wrapper">
<div class="output">


<div class="output_area">

<div class="prompt"></div>


<div class="output_subarea output_stream output_stdout output_text">
<pre>Everything ok!
</pre>
</div>
</div>

</div>
</div>

</div>
<div class="cell border-box-sizing text_cell rendered"><div class="prompt input_prompt">
</div>
<div class="inner_cell">
<div class="text_cell_render border-box-sizing rendered_html">
<p><br>
<br></p>

</div>
</div>
</div>
<div class="cell border-box-sizing text_cell rendered"><div class="prompt input_prompt">
</div>
<div class="inner_cell">
<div class="text_cell_render border-box-sizing rendered_html">
<p>In order to decide which eigenvector(s) can dropped without losing too much information
for the construction of lower-dimensional subspace, we need to inspect the corresponding eigenvalues: The eigenvectors with the lowest eigenvalues bear the least information about the distribution of the data; those are the ones can be dropped.<br>
In order to do so, the common approach is to rank the eigenvalues from highest to lowest in order choose the top $k$ eigenvectors.</p>

</div>
</div>
</div>
<div class="cell border-box-sizing code_cell rendered">
<div class="input">
<div class="prompt input_prompt">In&nbsp;[16]:</div>
<div class="inner_cell">
    <div class="input_area">
<div class=" highlight hl-ipython3"><pre><span></span><span class="c1"># Make a list of (eigenvalue, eigenvector) tuples</span>
<span class="n">eig_pairs</span> <span class="o">=</span> <span class="p">[(</span><span class="n">np</span><span class="o">.</span><span class="n">abs</span><span class="p">(</span><span class="n">eig_vals</span><span class="p">[</span><span class="n">i</span><span class="p">]),</span> <span class="n">eig_vecs</span><span class="p">[:,</span><span class="n">i</span><span class="p">])</span> <span class="k">for</span> <span class="n">i</span> <span class="ow">in</span> <span class="nb">range</span><span class="p">(</span><span class="nb">len</span><span class="p">(</span><span class="n">eig_vals</span><span class="p">))]</span>

<span class="c1"># Sort the (eigenvalue, eigenvector) tuples from high to low</span>
<span class="n">eig_pairs</span><span class="o">.</span><span class="n">sort</span><span class="p">(</span><span class="n">key</span><span class="o">=</span><span class="k">lambda</span> <span class="n">x</span><span class="p">:</span> <span class="n">x</span><span class="p">[</span><span class="mi">0</span><span class="p">],</span> <span class="n">reverse</span><span class="o">=</span><span class="kc">True</span><span class="p">)</span>

<span class="c1"># Visually confirm that the list is correctly sorted by decreasing eigenvalues</span>
<span class="nb">print</span><span class="p">(</span><span class="s1">&#39;Eigenvalues in descending order:&#39;</span><span class="p">)</span>
<span class="k">for</span> <span class="n">i</span> <span class="ow">in</span> <span class="n">eig_pairs</span><span class="p">:</span>
    <span class="nb">print</span><span class="p">(</span><span class="n">i</span><span class="p">[</span><span class="mi">0</span><span class="p">])</span>
</pre></div>

</div>
</div>
</div>

<div class="output_wrapper">
<div class="output">


<div class="output_area">

<div class="prompt"></div>


<div class="output_subarea output_stream output_stdout output_text">
<pre>Eigenvalues in descending order:
2.91081808375
0.921220930707
0.147353278305
0.0206077072356
</pre>
</div>
</div>

</div>
</div>

</div>
<div class="cell border-box-sizing text_cell rendered"><div class="prompt input_prompt">
</div>
<div class="inner_cell">
<div class="text_cell_render border-box-sizing rendered_html">
<p><br>
<br></p>

</div>
</div>
</div>
<div class="cell border-box-sizing text_cell rendered"><div class="prompt input_prompt">
</div>
<div class="inner_cell">
<div class="text_cell_render border-box-sizing rendered_html">
<h3 id="Explained-Variance">Explained Variance<a class="anchor-link" href="#Explained-Variance">&#182;</a></h3>
</div>
</div>
</div>
<div class="cell border-box-sizing text_cell rendered"><div class="prompt input_prompt">
</div>
<div class="inner_cell">
<div class="text_cell_render border-box-sizing rendered_html">
<p>[<a href="#Sections">back to top</a>]</p>

</div>
</div>
</div>
<div class="cell border-box-sizing text_cell rendered"><div class="prompt input_prompt">
</div>
<div class="inner_cell">
<div class="text_cell_render border-box-sizing rendered_html">
<p>After sorting the eigenpairs, the next question is "how many principal components are we going to choose for our new feature subspace?" A useful measure is the so-called "explained variance," which can be calculated from the eigenvalues. The explained variance tells us how much information (variance) can be attributed to each of the principal components.</p>

</div>
</div>
</div>
<div class="cell border-box-sizing code_cell rendered">
<div class="input">
<div class="prompt input_prompt">In&nbsp;[17]:</div>
<div class="inner_cell">
    <div class="input_area">
<div class=" highlight hl-ipython3"><pre><span></span><span class="n">tot</span> <span class="o">=</span> <span class="nb">sum</span><span class="p">(</span><span class="n">eig_vals</span><span class="p">)</span>
<span class="n">var_exp</span> <span class="o">=</span> <span class="p">[(</span><span class="n">i</span> <span class="o">/</span> <span class="n">tot</span><span class="p">)</span><span class="o">*</span><span class="mi">100</span> <span class="k">for</span> <span class="n">i</span> <span class="ow">in</span> <span class="nb">sorted</span><span class="p">(</span><span class="n">eig_vals</span><span class="p">,</span> <span class="n">reverse</span><span class="o">=</span><span class="kc">True</span><span class="p">)]</span>
<span class="n">cum_var_exp</span> <span class="o">=</span> <span class="n">np</span><span class="o">.</span><span class="n">cumsum</span><span class="p">(</span><span class="n">var_exp</span><span class="p">)</span>
</pre></div>

</div>
</div>
</div>

</div>
<div class="cell border-box-sizing code_cell rendered">
<div class="input">
<div class="prompt input_prompt">In&nbsp;[23]:</div>
<div class="inner_cell">
    <div class="input_area">
<div class=" highlight hl-ipython3"><pre><span></span><span class="k">with</span> <span class="n">plt</span><span class="o">.</span><span class="n">style</span><span class="o">.</span><span class="n">context</span><span class="p">(</span><span class="s1">&#39;seaborn-whitegrid&#39;</span><span class="p">):</span>
    <span class="n">plt</span><span class="o">.</span><span class="n">figure</span><span class="p">(</span><span class="n">figsize</span><span class="o">=</span><span class="p">(</span><span class="mi">6</span><span class="p">,</span> <span class="mi">4</span><span class="p">))</span>

    <span class="n">plt</span><span class="o">.</span><span class="n">bar</span><span class="p">(</span><span class="nb">range</span><span class="p">(</span><span class="mi">4</span><span class="p">),</span> <span class="n">var_exp</span><span class="p">,</span> <span class="n">alpha</span><span class="o">=</span><span class="mf">0.5</span><span class="p">,</span> <span class="n">align</span><span class="o">=</span><span class="s1">&#39;center&#39;</span><span class="p">,</span>
            <span class="n">label</span><span class="o">=</span><span class="s1">&#39;individual explained variance&#39;</span><span class="p">)</span>
    <span class="n">plt</span><span class="o">.</span><span class="n">step</span><span class="p">(</span><span class="nb">range</span><span class="p">(</span><span class="mi">4</span><span class="p">),</span> <span class="n">cum_var_exp</span><span class="p">,</span> <span class="n">where</span><span class="o">=</span><span class="s1">&#39;mid&#39;</span><span class="p">,</span>
             <span class="n">label</span><span class="o">=</span><span class="s1">&#39;cumulative explained variance&#39;</span><span class="p">)</span>
    <span class="n">plt</span><span class="o">.</span><span class="n">ylabel</span><span class="p">(</span><span class="s1">&#39;Explained variance ratio&#39;</span><span class="p">)</span>
    <span class="n">plt</span><span class="o">.</span><span class="n">xlabel</span><span class="p">(</span><span class="s1">&#39;Principal components&#39;</span><span class="p">)</span>
    <span class="n">plt</span><span class="o">.</span><span class="n">legend</span><span class="p">(</span><span class="n">loc</span><span class="o">=</span><span class="s1">&#39;best&#39;</span><span class="p">)</span>
    <span class="n">plt</span><span class="o">.</span><span class="n">tight_layout</span><span class="p">()</span>
    <span class="n">plt</span><span class="o">.</span><span class="n">savefig</span><span class="p">(</span><span class="s1">&#39;/Users/Sebastian/Desktop/pca2.pdf&#39;</span><span class="p">)</span>
</pre></div>

</div>
</div>
</div>

<div class="output_wrapper">
<div class="output">


<div class="output_area">

<div class="prompt"></div>




<div class="output_png output_subarea ">
<img src="data:image/png;base64,iVBORw0KGgoAAAANSUhEUgAAAagAAAEYCAYAAAAJeGK1AAAABHNCSVQICAgIfAhkiAAAAAlwSFlz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"
>
</div>

</div>

</div>
</div>

</div>
<div class="cell border-box-sizing text_cell rendered"><div class="prompt input_prompt">
</div>
<div class="inner_cell">
<div class="text_cell_render border-box-sizing rendered_html">
<p>The plot above clearly shows that most of the variance (72.77% of the variance to be precise) can be explained by the first principal component alone. The second principal component still bears some information (23.03%) while the third and fourth principal components can safely be dropped without losing to much information. Together, the first two principal components contain 95.8% of the information.</p>

</div>
</div>
</div>
<div class="cell border-box-sizing text_cell rendered"><div class="prompt input_prompt">
</div>
<div class="inner_cell">
<div class="text_cell_render border-box-sizing rendered_html">
<p><br>
<br></p>

</div>
</div>
</div>
<div class="cell border-box-sizing text_cell rendered"><div class="prompt input_prompt">
</div>
<div class="inner_cell">
<div class="text_cell_render border-box-sizing rendered_html">
<h3 id="Projection-Matrix">Projection Matrix<a class="anchor-link" href="#Projection-Matrix">&#182;</a></h3>
</div>
</div>
</div>
<div class="cell border-box-sizing text_cell rendered"><div class="prompt input_prompt">
</div>
<div class="inner_cell">
<div class="text_cell_render border-box-sizing rendered_html">
<p>[<a href="#Sections">back to top</a>]</p>

</div>
</div>
</div>
<div class="cell border-box-sizing text_cell rendered"><div class="prompt input_prompt">
</div>
<div class="inner_cell">
<div class="text_cell_render border-box-sizing rendered_html">
<p>It's about time to get to the really interesting part: The construction of the projection matrix that will be used to transform the Iris data onto the new feature subspace. Although, the name "projection matrix" has a nice ring to it, it is basically just a matrix of our concatenated top <em>k</em> eigenvectors.</p>
<p>Here, we are reducing the 4-dimensional feature space to a 2-dimensional feature subspace, by choosing the "top 2" eigenvectors with the highest eigenvalues to construct our $d \times k$-dimensional eigenvector matrix $\mathbf{W}$.</p>

</div>
</div>
</div>
<div class="cell border-box-sizing code_cell rendered">
<div class="input">
<div class="prompt input_prompt">In&nbsp;[19]:</div>
<div class="inner_cell">
    <div class="input_area">
<div class=" highlight hl-ipython3"><pre><span></span><span class="n">matrix_w</span> <span class="o">=</span> <span class="n">np</span><span class="o">.</span><span class="n">hstack</span><span class="p">((</span><span class="n">eig_pairs</span><span class="p">[</span><span class="mi">0</span><span class="p">][</span><span class="mi">1</span><span class="p">]</span><span class="o">.</span><span class="n">reshape</span><span class="p">(</span><span class="mi">4</span><span class="p">,</span><span class="mi">1</span><span class="p">),</span> 
                      <span class="n">eig_pairs</span><span class="p">[</span><span class="mi">1</span><span class="p">][</span><span class="mi">1</span><span class="p">]</span><span class="o">.</span><span class="n">reshape</span><span class="p">(</span><span class="mi">4</span><span class="p">,</span><span class="mi">1</span><span class="p">)))</span>

<span class="nb">print</span><span class="p">(</span><span class="s1">&#39;Matrix W:</span><span class="se">\n</span><span class="s1">&#39;</span><span class="p">,</span> <span class="n">matrix_w</span><span class="p">)</span>
</pre></div>

</div>
</div>
</div>

<div class="output_wrapper">
<div class="output">


<div class="output_area">

<div class="prompt"></div>


<div class="output_subarea output_stream output_stdout output_text">
<pre>Matrix W:
 [[ 0.52237162 -0.37231836]
 [-0.26335492 -0.92555649]
 [ 0.58125401 -0.02109478]
 [ 0.56561105 -0.06541577]]
</pre>
</div>
</div>

</div>
</div>

</div>
<div class="cell border-box-sizing text_cell rendered"><div class="prompt input_prompt">
</div>
<div class="inner_cell">
<div class="text_cell_render border-box-sizing rendered_html">
<p><br>
<br></p>

</div>
</div>
</div>
<div class="cell border-box-sizing text_cell rendered"><div class="prompt input_prompt">
</div>
<div class="inner_cell">
<div class="text_cell_render border-box-sizing rendered_html">
<h2 id="3---Projection-Onto-the-New-Feature-Space">3 - Projection Onto the New Feature Space<a class="anchor-link" href="#3---Projection-Onto-the-New-Feature-Space">&#182;</a></h2>
</div>
</div>
</div>
<div class="cell border-box-sizing text_cell rendered"><div class="prompt input_prompt">
</div>
<div class="inner_cell">
<div class="text_cell_render border-box-sizing rendered_html">
<p>[<a href="#Sections">back to top</a>]</p>

</div>
</div>
</div>
<div class="cell border-box-sizing text_cell rendered"><div class="prompt input_prompt">
</div>
<div class="inner_cell">
<div class="text_cell_render border-box-sizing rendered_html">
<p>In this last step we will use the $4 \times 2$-dimensional projection matrix $\mathbf{W}$ to transform our samples onto the new subspace via the equation<br>
$\mathbf{Y} = \mathbf{X} \times  \mathbf{W}$, where $\mathbf{Y}$ is a $150\times 2$ matrix of our transformed samples.</p>

</div>
</div>
</div>
<div class="cell border-box-sizing code_cell rendered">
<div class="input">
<div class="prompt input_prompt">In&nbsp;[20]:</div>
<div class="inner_cell">
    <div class="input_area">
<div class=" highlight hl-ipython3"><pre><span></span><span class="n">Y</span> <span class="o">=</span> <span class="n">X_std</span><span class="o">.</span><span class="n">dot</span><span class="p">(</span><span class="n">matrix_w</span><span class="p">)</span>
</pre></div>

</div>
</div>
</div>

</div>
<div class="cell border-box-sizing code_cell rendered">
<div class="input">
<div class="prompt input_prompt">In&nbsp;[24]:</div>
<div class="inner_cell">
    <div class="input_area">
<div class=" highlight hl-ipython3"><pre><span></span><span class="k">with</span> <span class="n">plt</span><span class="o">.</span><span class="n">style</span><span class="o">.</span><span class="n">context</span><span class="p">(</span><span class="s1">&#39;seaborn-whitegrid&#39;</span><span class="p">):</span>
    <span class="n">plt</span><span class="o">.</span><span class="n">figure</span><span class="p">(</span><span class="n">figsize</span><span class="o">=</span><span class="p">(</span><span class="mi">6</span><span class="p">,</span> <span class="mi">4</span><span class="p">))</span>
    <span class="k">for</span> <span class="n">lab</span><span class="p">,</span> <span class="n">col</span> <span class="ow">in</span> <span class="nb">zip</span><span class="p">((</span><span class="s1">&#39;Iris-setosa&#39;</span><span class="p">,</span> <span class="s1">&#39;Iris-versicolor&#39;</span><span class="p">,</span> <span class="s1">&#39;Iris-virginica&#39;</span><span class="p">),</span> 
                        <span class="p">(</span><span class="s1">&#39;blue&#39;</span><span class="p">,</span> <span class="s1">&#39;red&#39;</span><span class="p">,</span> <span class="s1">&#39;green&#39;</span><span class="p">)):</span>
        <span class="n">plt</span><span class="o">.</span><span class="n">scatter</span><span class="p">(</span><span class="n">Y</span><span class="p">[</span><span class="n">y</span><span class="o">==</span><span class="n">lab</span><span class="p">,</span> <span class="mi">0</span><span class="p">],</span>
                    <span class="n">Y</span><span class="p">[</span><span class="n">y</span><span class="o">==</span><span class="n">lab</span><span class="p">,</span> <span class="mi">1</span><span class="p">],</span>
                    <span class="n">label</span><span class="o">=</span><span class="n">lab</span><span class="p">,</span>
                    <span class="n">c</span><span class="o">=</span><span class="n">col</span><span class="p">)</span>
    <span class="n">plt</span><span class="o">.</span><span class="n">xlabel</span><span class="p">(</span><span class="s1">&#39;Principal Component 1&#39;</span><span class="p">)</span>
    <span class="n">plt</span><span class="o">.</span><span class="n">ylabel</span><span class="p">(</span><span class="s1">&#39;Principal Component 2&#39;</span><span class="p">)</span>
    <span class="n">plt</span><span class="o">.</span><span class="n">legend</span><span class="p">(</span><span class="n">loc</span><span class="o">=</span><span class="s1">&#39;lower center&#39;</span><span class="p">)</span>
    <span class="n">plt</span><span class="o">.</span><span class="n">tight_layout</span><span class="p">()</span>

    <span class="n">plt</span><span class="o">.</span><span class="n">savefig</span><span class="p">(</span><span class="s1">&#39;/Users/Sebastian/Desktop/pca1.pdf&#39;</span><span class="p">)</span>
</pre></div>

</div>
</div>
</div>

<div class="output_wrapper">
<div class="output">


<div class="output_area">

<div class="prompt"></div>




<div class="output_png output_subarea ">
<img src="data:image/png;base64,iVBORw0KGgoAAAANSUhEUgAAAagAAAEYCAYAAAAJeGK1AAAABHNCSVQICAgIfAhkiAAAAAlwSFlz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=
"
>
</div>

</div>

</div>
</div>

</div>
<div class="cell border-box-sizing text_cell rendered"><div class="prompt input_prompt">
</div>
<div class="inner_cell">
<div class="text_cell_render border-box-sizing rendered_html">
<p><br>
<br>
<a name="mat_pca"></a></p>

</div>
</div>
</div>
<div class="cell border-box-sizing text_cell rendered"><div class="prompt input_prompt">
</div>
<div class="inner_cell">
<div class="text_cell_render border-box-sizing rendered_html">
<p><br>
<br>
<a name="sklearn_pca"> </a></p>

</div>
</div>
</div>
<div class="cell border-box-sizing text_cell rendered"><div class="prompt input_prompt">
</div>
<div class="inner_cell">
<div class="text_cell_render border-box-sizing rendered_html">
<h2 id="Shortcut---PCA-in-scikit-learn">Shortcut - PCA in scikit-learn<a class="anchor-link" href="#Shortcut---PCA-in-scikit-learn">&#182;</a></h2>
</div>
</div>
</div>
<div class="cell border-box-sizing text_cell rendered"><div class="prompt input_prompt">
</div>
<div class="inner_cell">
<div class="text_cell_render border-box-sizing rendered_html">
<p>[<a href="#Sections">back to top</a>]</p>

</div>
</div>
</div>
<div class="cell border-box-sizing text_cell rendered"><div class="prompt input_prompt">
</div>
<div class="inner_cell">
<div class="text_cell_render border-box-sizing rendered_html">
<p>For educational purposes, we went a long way to apply the PCA to the Iris dataset. But luckily, there is already implementation in scikit-learn.</p>

</div>
</div>
</div>
<div class="cell border-box-sizing code_cell rendered">
<div class="input">
<div class="prompt input_prompt">In&nbsp;[100]:</div>
<div class="inner_cell">
    <div class="input_area">
<div class=" highlight hl-ipython3"><pre><span></span><span class="kn">from</span> <span class="nn">sklearn.decomposition</span> <span class="k">import</span> <span class="n">PCA</span> <span class="k">as</span> <span class="n">sklearnPCA</span>
<span class="n">sklearn_pca</span> <span class="o">=</span> <span class="n">sklearnPCA</span><span class="p">(</span><span class="n">n_components</span><span class="o">=</span><span class="mi">2</span><span class="p">)</span>
<span class="n">Y_sklearn</span> <span class="o">=</span> <span class="n">sklearn_pca</span><span class="o">.</span><span class="n">fit_transform</span><span class="p">(</span><span class="n">X_std</span><span class="p">)</span>
</pre></div>

</div>
</div>
</div>

</div>
<div class="cell border-box-sizing code_cell rendered">
<div class="input">
<div class="prompt input_prompt">In&nbsp;[101]:</div>
<div class="inner_cell">
    <div class="input_area">
<div class=" highlight hl-ipython3"><pre><span></span><span class="k">with</span> <span class="n">plt</span><span class="o">.</span><span class="n">style</span><span class="o">.</span><span class="n">context</span><span class="p">(</span><span class="s1">&#39;seaborn-whitegrid&#39;</span><span class="p">):</span>
    <span class="n">plt</span><span class="o">.</span><span class="n">figure</span><span class="p">(</span><span class="n">figsize</span><span class="o">=</span><span class="p">(</span><span class="mi">6</span><span class="p">,</span> <span class="mi">4</span><span class="p">))</span>
    <span class="k">for</span> <span class="n">lab</span><span class="p">,</span> <span class="n">col</span> <span class="ow">in</span> <span class="nb">zip</span><span class="p">((</span><span class="s1">&#39;Iris-setosa&#39;</span><span class="p">,</span> <span class="s1">&#39;Iris-versicolor&#39;</span><span class="p">,</span> <span class="s1">&#39;Iris-virginica&#39;</span><span class="p">),</span> 
                        <span class="p">(</span><span class="s1">&#39;blue&#39;</span><span class="p">,</span> <span class="s1">&#39;red&#39;</span><span class="p">,</span> <span class="s1">&#39;green&#39;</span><span class="p">)):</span>
        <span class="n">plt</span><span class="o">.</span><span class="n">scatter</span><span class="p">(</span><span class="n">Y_sklearn</span><span class="p">[</span><span class="n">y</span><span class="o">==</span><span class="n">lab</span><span class="p">,</span> <span class="mi">0</span><span class="p">],</span>
                    <span class="n">Y_sklearn</span><span class="p">[</span><span class="n">y</span><span class="o">==</span><span class="n">lab</span><span class="p">,</span> <span class="mi">1</span><span class="p">],</span>
                    <span class="n">label</span><span class="o">=</span><span class="n">lab</span><span class="p">,</span>
                    <span class="n">c</span><span class="o">=</span><span class="n">col</span><span class="p">)</span>
    <span class="n">plt</span><span class="o">.</span><span class="n">xlabel</span><span class="p">(</span><span class="s1">&#39;Principal Component 1&#39;</span><span class="p">)</span>
    <span class="n">plt</span><span class="o">.</span><span class="n">ylabel</span><span class="p">(</span><span class="s1">&#39;Principal Component 2&#39;</span><span class="p">)</span>
    <span class="n">plt</span><span class="o">.</span><span class="n">legend</span><span class="p">(</span><span class="n">loc</span><span class="o">=</span><span class="s1">&#39;lower center&#39;</span><span class="p">)</span>
    <span class="n">plt</span><span class="o">.</span><span class="n">tight_layout</span><span class="p">()</span>
    <span class="n">plt</span><span class="o">.</span><span class="n">show</span><span class="p">()</span>
</pre></div>

</div>
</div>
</div>

<div class="output_wrapper">
<div class="output">


<div class="output_area">

<div class="prompt"></div>




<div class="output_png output_subarea ">
<img src="data:image/png;base64,iVBORw0KGgoAAAANSUhEUgAAAakAAAEbCAYAAABgLnslAAAABHNCSVQICAgIfAhkiAAAAAlwSFlz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==
"
>
</div>

</div>

</div>
</div>

</div>
 


    </div>
  </div>

  </div>


  
    <footer class="footer hidden-print">
      <div class="container">
        <div class="col-md-4">
          <p>
            This website does not host notebooks, it only renders notebooks
            available on other websites.
          </p>
        </div>

        <div class="col-md-4">
          <p>
            Delivered by <a href="http://www.fastly.com/">Fastly</a>,
            Rendered by <a href="https://developer.rackspace.com/?nbviewer=awesome">Rackspace</a>
          </p>
          <p>
            nbviewer GitHub <a href="https://github.com/jupyter/nbviewer">repository</a>.
          </p>
        </div>

        <div class="col-md-4">
          
  
            
              <p>
                nbviewer version:
                <a href="https://github.com/jupyter/nbviewer/commit/5ac2643d687f4e78c5b8a4d50ead8255b2c65bb1">
                  5ac2643
                </a>
              </p>
            
          
  
  <p>
    nbconvert version: <a href="https://github.com/jupyter/nbconvert/releases/tag/5.2.1">
      5.2.1
    </a>
  </p>
  

          
  
  
  <p>
    Rendered
    <span class='date' data-date='Sun, 30 Jul 2017 06:29:38 UTC' title='Sun, 30 Jul 2017 06:29:38 UTC'>(Sun, 30 Jul 2017 06:29:38 UTC)</span>
  </p>
  

        </div>
      </div>
    </footer>
  

  <script src="https://unpkg.com/jupyter-js-widgets@2.0.*/dist/embed.js"></script>
  <script src="/static/components/bootstrap/js/bootstrap.min.js?v=5869c96cc8f19086aee625d670d741f9"></script>
  <script src="/static/components/headroom.js/dist/headroom.min.js?v=b0a311ea668f8e768ea375f4a7abb81c"></script>
  <script src="/static/components/headroom.js/dist/jQuery.headroom.min.js?v=f3a1bae118315d0c234afc74dc6aab71"></script>

  
  
  <script>
    $(function(){ $("#menubar").headroom({
      tolerance: 5,
      offset: 205,
      classes: {
        initial: "animated",
        pinned: "slideInDown",
        unpinned: "slideOutUp"
      }
    })});
  </script>


  
  <script>
    (function(i,s,o,g,r,a,m){i['GoogleAnalyticsObject']=r;i[r]=i[r]||function(){
      (i[r].q=i[r].q||[]).push(arguments)},i[r].l=1*new Date();a=s.createElement(o),
      m=s.getElementsByTagName(o)[0];a.async=1;a.src=g;m.parentNode.insertBefore(a,m)
    })(window,document,'script','https://www.google-analytics.com/analytics.js','ga');
    ga('create', 'UA-52617120-5', 'auto');
    ga('send', 'pageview');
  </script>
  
  <script>
    require({
        paths: {
          moment: "/static/components/moment/min/moment.min.js?v=89f87298ad94aa1e6b92f42eb66da043"
        }
      }, ["moment"], function(moment){
      var date = $("footer .date"),
        m = moment(new Date(date.data('date'))),
        update = function(){ date.text(m.fromNow()); };
      setInterval(update, 61*1000);
      update();
      var w = $(window).scroll(function(event){
        $("body").toggleClass("scrolled", w.scrollTop() > 0);
      });
    });
  </script>
  <!--NEW RELIC Stop Perf Measurement-->
  
  <!--NEW RELIC End-->
</body>
</html>